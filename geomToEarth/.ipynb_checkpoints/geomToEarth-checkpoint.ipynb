{
 "cells": [
  {
   "cell_type": "code",
   "execution_count": 1,
   "metadata": {},
   "outputs": [],
   "source": [
    "import osr, ogr"
   ]
  },
  {
   "cell_type": "code",
   "execution_count": 18,
   "metadata": {},
   "outputs": [],
   "source": [
    "inds = ogr.Open(\"ParqueNatural_CG_WGS84.gpkg\")\n",
    "inlayer = inds.GetLayer()\n",
    "\n",
    "for feature in inlayer:\n",
    "    multipolygon = feature.GetGeometryRef()\n",
    "    Wkt = multipolygon.ExportToWkt()\n",
    "    if \"MULTIPOLYGON\" in Wkt:\n",
    "        for polygon in multipolygon:\n",
    "            Wkt = polygon.ExportToWkt()\n",
    "\n",
    "del inds"
   ]
  },
  {
   "cell_type": "code",
   "execution_count": 32,
   "metadata": {},
   "outputs": [
    {
     "name": "stdout",
     "output_type": "stream",
     "text": [
      "-1.93111631599999,37.052888456\n"
     ]
    }
   ],
   "source": [
    "noPol = Wkt.split(\"POLYGON\")[1] # Get rid of POLYGON\n",
    "noParentesis = noPol.replace(\"(\", \"\")\n",
    "noParentesis = noParentesis.replace(\")\", \"\")\n",
    "latlon = noParentesis.split(\",\") # Get lon lat pairs\n",
    "test = latlon[1]\n",
    "print(test.replace(\" \", \",\"))\n",
    "\n",
    "# Queda dividir por espacios, añadir comes y organizarlo en corchetes (un punto latlon en un corchete)"
   ]
  },
  {
   "cell_type": "code",
   "execution_count": 8,
   "metadata": {},
   "outputs": [],
   "source": []
  }
 ],
 "metadata": {
  "kernelspec": {
   "display_name": "Python 3",
   "language": "python",
   "name": "python3"
  },
  "language_info": {
   "codemirror_mode": {
    "name": "ipython",
    "version": 3
   },
   "file_extension": ".py",
   "mimetype": "text/x-python",
   "name": "python",
   "nbconvert_exporter": "python",
   "pygments_lexer": "ipython3",
   "version": "3.7.4"
  }
 },
 "nbformat": 4,
 "nbformat_minor": 2
}
